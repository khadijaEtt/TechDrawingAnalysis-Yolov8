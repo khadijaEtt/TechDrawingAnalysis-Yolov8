{
  "nbformat": 4,
  "nbformat_minor": 0,
  "metadata": {
    "colab": {
      "provenance": []
    },
    "kernelspec": {
      "name": "python3",
      "display_name": "Python 3"
    },
    "language_info": {
      "name": "python"
    }
  },
  "cells": [
    {
      "cell_type": "code",
      "execution_count": null,
      "metadata": {
        "colab": {
          "base_uri": "https://localhost:8080/"
        },
        "id": "sIj0v2JUbWOf",
        "outputId": "66235403-b09f-4bc4-95b0-7e666ab3e424"
      },
      "outputs": [
        {
          "output_type": "stream",
          "name": "stdout",
          "text": [
            "\u001b[2K     \u001b[90m━━━━━━━━━━━━━━━━━━━━━━━━━━━━━━━━━━━━━━━━\u001b[0m \u001b[32m41.4/41.4 kB\u001b[0m \u001b[31m1.1 MB/s\u001b[0m eta \u001b[36m0:00:00\u001b[0m\n",
            "\u001b[2K     \u001b[90m━━━━━━━━━━━━━━━━━━━━━━━━━━━━━━━━━━━━━━━━\u001b[0m \u001b[32m9.5/9.5 MB\u001b[0m \u001b[31m18.9 MB/s\u001b[0m eta \u001b[36m0:00:00\u001b[0m\n",
            "\u001b[2K     \u001b[90m━━━━━━━━━━━━━━━━━━━━━━━━━━━━━━━━━━━━━━\u001b[0m \u001b[32m813.9/813.9 kB\u001b[0m \u001b[31m39.8 MB/s\u001b[0m eta \u001b[36m0:00:00\u001b[0m\n",
            "\u001b[2K     \u001b[90m━━━━━━━━━━━━━━━━━━━━━━━━━━━━━━━━━━━━━━━━\u001b[0m \u001b[32m50.7/50.7 kB\u001b[0m \u001b[31m4.3 MB/s\u001b[0m eta \u001b[36m0:00:00\u001b[0m\n",
            "\u001b[?25h"
          ]
        }
      ],
      "source": [
        "!pip install keras-ocr -q"
      ]
    },
    {
      "cell_type": "code",
      "source": [
        "\n",
        "import math\n",
        "import keras_ocr\n",
        "import numpy as np\n",
        "import matplotlib.pyplot as plt\n",
        "\n",
        "path_img = 's.png'\n",
        "\n",
        "# Create the pipeline for Keras OCR\n",
        "pipeline = keras_ocr.pipeline.Pipeline()\n",
        "\n",
        "# Recognize text using Keras OCR\n",
        "keras_ocr_results = pipeline.recognize([path_img])\n",
        "print(keras_ocr_results )"
      ],
      "metadata": {
        "colab": {
          "base_uri": "https://localhost:8080/"
        },
        "id": "Xk7SGJIeUsvn",
        "outputId": "81d4903d-81c4-45b1-c56e-12624479376e"
      },
      "execution_count": null,
      "outputs": [
        {
          "output_type": "stream",
          "name": "stdout",
          "text": [
            "Looking for /root/.keras-ocr/craft_mlt_25k.h5\n",
            "Looking for /root/.keras-ocr/crnn_kurapan.h5\n",
            "1/1 [==============================] - 5s 5s/step\n",
            "1/1 [==============================] - 3s 3s/step\n",
            "[[('s', array([[ 24., 127.],\n",
            "       [ 43., 127.],\n",
            "       [ 43., 148.],\n",
            "       [ 24., 148.]], dtype=float32)), ('uf', array([[213.45627, 165.16711],\n",
            "       [250.80109, 157.30505],\n",
            "       [255.70294, 180.58887],\n",
            "       [218.35812, 188.45093]], dtype=float32)), ('6', array([[198., 162.],\n",
            "       [216., 162.],\n",
            "       [216., 181.],\n",
            "       [198., 181.]], dtype=float32)), ('e', array([[ 55., 248.],\n",
            "       [ 94., 248.],\n",
            "       [ 94., 278.],\n",
            "       [ 55., 278.]], dtype=float32)), ('3', array([[211., 293.],\n",
            "       [227., 293.],\n",
            "       [227., 313.],\n",
            "       [211., 313.]], dtype=float32)), ('s', array([[224., 293.],\n",
            "       [252., 293.],\n",
            "       [252., 313.],\n",
            "       [224., 313.]], dtype=float32))]]\n"
          ]
        }
      ]
    },
    {
      "cell_type": "code",
      "source": [
        "import math\n",
        "import keras_ocr\n",
        "import numpy as np\n",
        "\n",
        "path_img = 'mm.jpg'\n",
        "\n",
        "# Create the pipeline for Keras OCR\n",
        "pipeline = keras_ocr.pipeline.Pipeline()\n",
        "\n",
        "# Recognize text using Keras OCR\n",
        "keras_ocr_results = pipeline.recognize([path_img])\n",
        "print(keras_ocr_results)\n",
        "\n",
        "keras_ocr_results_list = []\n",
        "list_bbox_forCombinedBbox = []\n",
        "\n",
        "for prediction_group in keras_ocr_results:\n",
        "    for i, prediction in enumerate(prediction_group):\n",
        "        # Extract bounding box coordinates from prediction\n",
        "        keras_x_min, keras_y_min = prediction[1][0]  # Assuming bbox is a list containing coordinates\n",
        "\n",
        "        # Check if the prediction contains both digits and non-digits\n",
        "        if any(char.isdigit() for char in prediction[0]) and any(not char.isdigit() for char in prediction[0]):\n",
        "            # If it contains a mix, do not combine and add it directly\n",
        "            keras_ocr_results_list.append(prediction)\n",
        "            continue\n",
        "\n",
        "        if i > 0:\n",
        "            previous_prediction = prediction_group[i - 1]\n",
        "            prev_x_min, prev_y_min = previous_prediction[1][0]\n",
        "\n",
        "        if i < len(prediction_group) - 1:\n",
        "            next_prediction = prediction_group[i + 1]\n",
        "            next_x_min, next_y_min = next_prediction[1][0]\n",
        "\n",
        "        # Check conditions for combining predictions keras_y_min - next_y_min < 10\n",
        "        if (i > 0 and\n",
        "            keras_x_min - prev_x_min < 50 and\n",
        "            keras_y_min - next_y_min < 10 and\n",
        "            not (any(char.isdigit() for char in previous_prediction[0]) and any(not char.isdigit() for char in previous_prediction[0]))):\n",
        "\n",
        "            # Combine predictions and update previous prediction info\n",
        "            combined_text = previous_prediction[0] + prediction[0]\n",
        "            combined_bbox = previous_prediction[1]\n",
        "            list_bbox_forCombinedBbox.append(previous_prediction[1])\n",
        "            list_bbox_forCombinedBbox.append(prediction[1])\n",
        "            # Create a new combined prediction and append it to the list\n",
        "            combined_prediction = (combined_text, combined_bbox)\n",
        "            keras_ocr_results_list.append(combined_prediction)\n",
        "\n",
        "        elif any(char.isdigit() for char in prediction[0]) and any(not char.isdigit() for char in prediction[0]):\n",
        "            # If it contains a mix, do not combine and add it directly\n",
        "            # keras_ocr_results_list.append(prediction)\n",
        "            continue\n",
        "        elif (i < len(prediction_group) - 1 and\n",
        "              next_x_min - keras_x_min < 50 and\n",
        "              keras_y_min - next_y_min < 10):\n",
        "\n",
        "            if not (any(char.isdigit() for char in next_prediction[0]) and any(not char.isdigit() for char in next_prediction[0])):\n",
        "                # Combine predictions with the next prediction\n",
        "                combined_text = prediction[0] + next_prediction[0]\n",
        "                combined_bbox = prediction[1]\n",
        "                list_bbox_forCombinedBbox.append(prediction[1])\n",
        "                list_bbox_forCombinedBbox.append(next_prediction[1])\n",
        "                # Create a new combined prediction and append it to the list\n",
        "                combined_prediction = (combined_text, combined_bbox)\n",
        "                keras_ocr_results_list.append(combined_prediction)\n",
        "\n",
        "        else:\n",
        "            keras_ocr_results_list.append(prediction)\n",
        "\n",
        "        # Store the current prediction info for the next iteration\n",
        "        keras_x_min_precedente = keras_x_min\n",
        "        keras_y_min_precedente = keras_y_min\n",
        "\n",
        "        # Append current point and prediction to their respective lists\n",
        "\n",
        "# Convert NumPy arrays to tuples\n",
        "data_list_tuples = [(item[0], tuple(map(tuple, item[1]))) for item in keras_ocr_results_list]\n",
        "\n",
        "# Create a set to eliminate duplicates, then convert back to the original format\n",
        "unique_data_list_tuples = set(data_list_tuples)\n",
        "keras_ocr_results_list = [(item[0], np.array(item[1], dtype=np.float32)) for item in unique_data_list_tuples]\n",
        "\n",
        "list_keras_ocr_result = []\n",
        "\n",
        "temp_list_keras_ocr_result = []\n",
        "\n",
        "for prediction in keras_ocr_results_list:\n",
        "    if prediction[0].isalpha() or len(prediction[0]) < 2:\n",
        "        continue  # Ignore and skip unwanted predictions\n",
        "    else:\n",
        "        temp_list_keras_ocr_result.append(prediction)\n",
        "#print(temp_list_keras_ocr_result)\n",
        "keras_ocr_results_list = temp_list_keras_ocr_result\n",
        "\n",
        "keras_point_list = []\n",
        "for prediction in keras_ocr_results_list:\n",
        "    keras_x_min, keras_y_min = prediction[1][0]\n",
        "    point = keras_x_min, keras_y_min\n",
        "    keras_point_list.append(point)\n",
        "\n",
        "print(keras_ocr_results_list)\n",
        "print(keras_point_list)"
      ],
      "metadata": {
        "colab": {
          "base_uri": "https://localhost:8080/"
        },
        "id": "3PDp0XE_JN6P",
        "outputId": "468a244e-e2fa-4962-bb59-136af50def03"
      },
      "execution_count": null,
      "outputs": [
        {
          "output_type": "stream",
          "name": "stdout",
          "text": [
            "Looking for /root/.keras-ocr/craft_mlt_25k.h5\n",
            "Looking for /root/.keras-ocr/crnn_kurapan.h5\n",
            "1/1 [==============================] - 7s 7s/step\n",
            "1/1 [==============================] - 5s 5s/step\n",
            "[[('r', array([[         62,           0],\n",
            "       [         83,           0],\n",
            "       [         83,          20],\n",
            "       [         62,          20]], dtype=float32)), ('r', array([[        198,           0],\n",
            "       [        220,           0],\n",
            "       [        220,          22],\n",
            "       [        198,          22]], dtype=float32)), ('r', array([[        333,           0],\n",
            "       [        353,           0],\n",
            "       [        353,          21],\n",
            "       [        333,          21]], dtype=float32)), ('w', array([[     60.471,      30.598],\n",
            "       [     132.75,      28.266],\n",
            "       [      133.6,       54.69],\n",
            "       [     61.323,      57.022]], dtype=float32)), ('w', array([[        195,          30],\n",
            "       [        247,          30],\n",
            "       [        247,          55],\n",
            "       [        195,          55]], dtype=float32)), ('w', array([[        336,          30],\n",
            "       [        384,          30],\n",
            "       [        384,          56],\n",
            "       [        336,          56]], dtype=float32)), ('1ooq', array([[     34.549,      63.422],\n",
            "       [     106.84,      61.568],\n",
            "       [     107.44,      85.168],\n",
            "       [     35.154,      87.022]], dtype=float32)), ('3005', array([[        174,          63],\n",
            "       [        228,          63],\n",
            "       [        228,          85],\n",
            "       [        174,          85]], dtype=float32)), ('2', array([[        224,          63],\n",
            "       [        248,          63],\n",
            "       [        248,          85],\n",
            "       [        224,          85]], dtype=float32)), ('500', array([[        315,          63],\n",
            "       [        374,          63],\n",
            "       [        374,          85],\n",
            "       [        315,          85]], dtype=float32))]]\n",
            "[('1ooq', array([[     34.549,      63.422],\n",
            "       [     106.84,      61.568],\n",
            "       [     107.44,      85.168],\n",
            "       [     35.154,      87.022]], dtype=float32)), ('3005', array([[        174,          63],\n",
            "       [        228,          63],\n",
            "       [        228,          85],\n",
            "       [        174,          85]], dtype=float32)), ('500', array([[        315,          63],\n",
            "       [        374,          63],\n",
            "       [        374,          85],\n",
            "       [        315,          85]], dtype=float32))]\n",
            "[(34.549267, 63.421806), (174.0, 63.0), (315.0, 63.0)]\n"
          ]
        }
      ]
    },
    {
      "cell_type": "code",
      "source": [
        "## connecting to the google drive\n",
        "\n",
        "from google.colab import drive\n",
        "drive.mount('/content/drive')"
      ],
      "metadata": {
        "colab": {
          "base_uri": "https://localhost:8080/"
        },
        "id": "ax7X8NP-EEE1",
        "outputId": "87ea6887-42f9-4015-d26a-6a9871840ed9"
      },
      "execution_count": null,
      "outputs": [
        {
          "output_type": "stream",
          "name": "stdout",
          "text": [
            "Mounted at /content/drive\n"
          ]
        }
      ]
    },
    {
      "cell_type": "code",
      "source": [
        "# Pip install (recommended)\n",
        "\n",
        "!pip install ultralytics"
      ],
      "metadata": {
        "colab": {
          "base_uri": "https://localhost:8080/"
        },
        "id": "6lI0o5SADwY_",
        "outputId": "8b338236-8dcd-4bf2-caf9-b6dd91bd0dc8"
      },
      "execution_count": null,
      "outputs": [
        {
          "output_type": "stream",
          "name": "stdout",
          "text": [
            "Collecting ultralytics\n",
            "  Downloading ultralytics-8.0.170-py3-none-any.whl (614 kB)\n",
            "\u001b[2K     \u001b[90m━━━━━━━━━━━━━━━━━━━━━━━━━━━━━━━━━━━━━━━\u001b[0m \u001b[32m614.2/614.2 kB\u001b[0m \u001b[31m5.7 MB/s\u001b[0m eta \u001b[36m0:00:00\u001b[0m\n",
            "\u001b[?25hRequirement already satisfied: matplotlib>=3.2.2 in /usr/local/lib/python3.10/dist-packages (from ultralytics) (3.7.1)\n",
            "Requirement already satisfied: numpy>=1.22.2 in /usr/local/lib/python3.10/dist-packages (from ultralytics) (1.23.5)\n",
            "Requirement already satisfied: opencv-python>=4.6.0 in /usr/local/lib/python3.10/dist-packages (from ultralytics) (4.8.0.76)\n",
            "Requirement already satisfied: pillow>=7.1.2 in /usr/local/lib/python3.10/dist-packages (from ultralytics) (9.4.0)\n",
            "Requirement already satisfied: pyyaml>=5.3.1 in /usr/local/lib/python3.10/dist-packages (from ultralytics) (6.0.1)\n",
            "Requirement already satisfied: requests>=2.23.0 in /usr/local/lib/python3.10/dist-packages (from ultralytics) (2.31.0)\n",
            "Requirement already satisfied: scipy>=1.4.1 in /usr/local/lib/python3.10/dist-packages (from ultralytics) (1.10.1)\n",
            "Requirement already satisfied: torch>=1.8.0 in /usr/local/lib/python3.10/dist-packages (from ultralytics) (2.0.1+cu118)\n",
            "Requirement already satisfied: torchvision>=0.9.0 in /usr/local/lib/python3.10/dist-packages (from ultralytics) (0.15.2+cu118)\n",
            "Requirement already satisfied: tqdm>=4.64.0 in /usr/local/lib/python3.10/dist-packages (from ultralytics) (4.66.1)\n",
            "Requirement already satisfied: pandas>=1.1.4 in /usr/local/lib/python3.10/dist-packages (from ultralytics) (1.5.3)\n",
            "Requirement already satisfied: seaborn>=0.11.0 in /usr/local/lib/python3.10/dist-packages (from ultralytics) (0.12.2)\n",
            "Requirement already satisfied: psutil in /usr/local/lib/python3.10/dist-packages (from ultralytics) (5.9.5)\n",
            "Requirement already satisfied: py-cpuinfo in /usr/local/lib/python3.10/dist-packages (from ultralytics) (9.0.0)\n",
            "Requirement already satisfied: contourpy>=1.0.1 in /usr/local/lib/python3.10/dist-packages (from matplotlib>=3.2.2->ultralytics) (1.1.0)\n",
            "Requirement already satisfied: cycler>=0.10 in /usr/local/lib/python3.10/dist-packages (from matplotlib>=3.2.2->ultralytics) (0.11.0)\n",
            "Requirement already satisfied: fonttools>=4.22.0 in /usr/local/lib/python3.10/dist-packages (from matplotlib>=3.2.2->ultralytics) (4.42.1)\n",
            "Requirement already satisfied: kiwisolver>=1.0.1 in /usr/local/lib/python3.10/dist-packages (from matplotlib>=3.2.2->ultralytics) (1.4.4)\n",
            "Requirement already satisfied: packaging>=20.0 in /usr/local/lib/python3.10/dist-packages (from matplotlib>=3.2.2->ultralytics) (23.1)\n",
            "Requirement already satisfied: pyparsing>=2.3.1 in /usr/local/lib/python3.10/dist-packages (from matplotlib>=3.2.2->ultralytics) (3.1.1)\n",
            "Requirement already satisfied: python-dateutil>=2.7 in /usr/local/lib/python3.10/dist-packages (from matplotlib>=3.2.2->ultralytics) (2.8.2)\n",
            "Requirement already satisfied: pytz>=2020.1 in /usr/local/lib/python3.10/dist-packages (from pandas>=1.1.4->ultralytics) (2023.3)\n",
            "Requirement already satisfied: charset-normalizer<4,>=2 in /usr/local/lib/python3.10/dist-packages (from requests>=2.23.0->ultralytics) (3.2.0)\n",
            "Requirement already satisfied: idna<4,>=2.5 in /usr/local/lib/python3.10/dist-packages (from requests>=2.23.0->ultralytics) (3.4)\n",
            "Requirement already satisfied: urllib3<3,>=1.21.1 in /usr/local/lib/python3.10/dist-packages (from requests>=2.23.0->ultralytics) (2.0.4)\n",
            "Requirement already satisfied: certifi>=2017.4.17 in /usr/local/lib/python3.10/dist-packages (from requests>=2.23.0->ultralytics) (2023.7.22)\n",
            "Requirement already satisfied: filelock in /usr/local/lib/python3.10/dist-packages (from torch>=1.8.0->ultralytics) (3.12.2)\n",
            "Requirement already satisfied: typing-extensions in /usr/local/lib/python3.10/dist-packages (from torch>=1.8.0->ultralytics) (4.7.1)\n",
            "Requirement already satisfied: sympy in /usr/local/lib/python3.10/dist-packages (from torch>=1.8.0->ultralytics) (1.12)\n",
            "Requirement already satisfied: networkx in /usr/local/lib/python3.10/dist-packages (from torch>=1.8.0->ultralytics) (3.1)\n",
            "Requirement already satisfied: jinja2 in /usr/local/lib/python3.10/dist-packages (from torch>=1.8.0->ultralytics) (3.1.2)\n",
            "Requirement already satisfied: triton==2.0.0 in /usr/local/lib/python3.10/dist-packages (from torch>=1.8.0->ultralytics) (2.0.0)\n",
            "Requirement already satisfied: cmake in /usr/local/lib/python3.10/dist-packages (from triton==2.0.0->torch>=1.8.0->ultralytics) (3.27.2)\n",
            "Requirement already satisfied: lit in /usr/local/lib/python3.10/dist-packages (from triton==2.0.0->torch>=1.8.0->ultralytics) (16.0.6)\n",
            "Requirement already satisfied: six>=1.5 in /usr/local/lib/python3.10/dist-packages (from python-dateutil>=2.7->matplotlib>=3.2.2->ultralytics) (1.16.0)\n",
            "Requirement already satisfied: MarkupSafe>=2.0 in /usr/local/lib/python3.10/dist-packages (from jinja2->torch>=1.8.0->ultralytics) (2.1.3)\n",
            "Requirement already satisfied: mpmath>=0.19 in /usr/local/lib/python3.10/dist-packages (from sympy->torch>=1.8.0->ultralytics) (1.3.0)\n",
            "Installing collected packages: ultralytics\n",
            "Successfully installed ultralytics-8.0.170\n"
          ]
        }
      ]
    },
    {
      "cell_type": "code",
      "source": [
        "import ultralytics\n",
        "ultralytics.checks()"
      ],
      "metadata": {
        "colab": {
          "base_uri": "https://localhost:8080/"
        },
        "id": "Tewy3DBCD2Pa",
        "outputId": "4f4a1e94-c1a0-4bf5-98f7-5f252431855b"
      },
      "execution_count": null,
      "outputs": [
        {
          "output_type": "stream",
          "name": "stderr",
          "text": [
            "Ultralytics YOLOv8.0.163 🚀 Python-3.10.12 torch-2.0.1+cu118 CPU (Intel Xeon 2.20GHz)\n",
            "Setup complete ✅ (2 CPUs, 12.7 GB RAM, 26.4/107.7 GB disk)\n"
          ]
        }
      ]
    },
    {
      "cell_type": "code",
      "source": [
        "from ultralytics import YOLO\n",
        "\n",
        "# Load a model\n",
        "model = YOLO('/content/drive/MyDrive/technicalDrawingAnalysis/electronicsDrawing/training_results/electronicsComponents/weights/best0.pt')  # pretrained YOLOv8n model\n",
        "\n",
        "# Run batched inference on a list of images\n",
        "results = model([path_img])  # return a list of Results objects\n",
        "\n",
        "# Process results list\n",
        "for result in results:\n",
        "    boxes = result.boxes.data  # Boxes object for bbox outputs\n",
        "    masks = result.masks  # Masks object for segmentation masks outputs\n",
        "    keypoints = result.keypoints  # Keypoints object for pose outputs\n",
        "    probs = result.probs  # Probs object for classification outputs\n",
        "    print(boxes)"
      ],
      "metadata": {
        "colab": {
          "base_uri": "https://localhost:8080/"
        },
        "id": "dNzhXHNPMqrU",
        "outputId": "1e77496f-679a-4813-dad2-e05b504e7787"
      },
      "execution_count": null,
      "outputs": [
        {
          "output_type": "stream",
          "name": "stderr",
          "text": [
            "\n",
            "0: 352x640 3 Resistances, 1507.7ms\n",
            "Speed: 3.0ms preprocess, 1507.7ms inference, 29.2ms postprocess per image at shape (1, 3, 352, 640)\n"
          ]
        },
        {
          "output_type": "stream",
          "name": "stdout",
          "text": [
            "tensor([[316.8976,  25.6822, 380.8904,  58.2948,   0.8422,   3.0000],\n",
            "        [180.0659,  25.1818, 247.5618,  58.4271,   0.8406,   3.0000],\n",
            "        [ 46.1427,  24.9507, 113.3729,  58.1779,   0.8263,   3.0000]])\n"
          ]
        }
      ]
    },
    {
      "cell_type": "code",
      "source": [
        "\n",
        "yolo_result_list_before_Accuracy_test = []\n",
        "yolo_result_list = []\n",
        "\n",
        "# Convert tensor to list of lists using .tolist()\n",
        "yolo_result_list_before_Accuracy_test = boxes.tolist()\n",
        "\n",
        "# Check if confidence score is greater than 0.6 and append to yolo_result\n",
        "for box in yolo_result_list_before_Accuracy_test:\n",
        "    if box[-2] > 0.5:\n",
        "        yolo_result_list.append(box)\n",
        "\n",
        "\n",
        "# Print the converted list of lists\n",
        "print(yolo_result_list)\n"
      ],
      "metadata": {
        "colab": {
          "base_uri": "https://localhost:8080/"
        },
        "id": "pdMnJ-V9zXpB",
        "outputId": "18098ed5-d0f4-42e8-f72d-2db6a7a44114"
      },
      "execution_count": null,
      "outputs": [
        {
          "output_type": "stream",
          "name": "stdout",
          "text": [
            "[[316.8975524902344, 25.682239532470703, 380.8903503417969, 58.294795989990234, 0.8421622514724731, 3.0], [180.06590270996094, 25.181798934936523, 247.5618438720703, 58.42710876464844, 0.8405672311782837, 3.0], [46.14271926879883, 24.95070457458496, 113.37285614013672, 58.17792892456055, 0.8263255953788757, 3.0]]\n"
          ]
        }
      ]
    },
    {
      "cell_type": "code",
      "source": [
        "# Create an empty list to store tuples of first and second elements\n",
        "yolo_point_list = []\n",
        "\n",
        "# Iterate through each bbox in yolo_result_list\n",
        "for box in yolo_result_list:\n",
        "    # Extract the first and second elements and create a tuple\n",
        "    center_tuple = (box[0], box[1])\n",
        "    yolo_point_list.append(center_tuple)\n",
        "\n",
        "# Print the list of tuples\n",
        "print(yolo_point_list)"
      ],
      "metadata": {
        "colab": {
          "base_uri": "https://localhost:8080/"
        },
        "id": "P4YowOPSxVwF",
        "outputId": "995b4100-1b05-44ed-c43b-27e4d7dc4eb0"
      },
      "execution_count": null,
      "outputs": [
        {
          "output_type": "stream",
          "name": "stdout",
          "text": [
            "[(316.8975524902344, 25.682239532470703), (180.06590270996094, 25.181798934936523), (46.14271926879883, 24.95070457458496)]\n"
          ]
        }
      ]
    },
    {
      "cell_type": "code",
      "source": [
        "print(yolo_result_list)\n",
        "print(list_keras_ocr_result)"
      ],
      "metadata": {
        "colab": {
          "base_uri": "https://localhost:8080/"
        },
        "id": "KAFcSjWqythq",
        "outputId": "95d6b6bf-94af-4127-c360-60078f8458a1"
      },
      "execution_count": null,
      "outputs": [
        {
          "output_type": "stream",
          "name": "stdout",
          "text": [
            "[[50.15874099731445, 220.6107940673828, 105.17615509033203, 294.9666442871094, 0.8959755897521973, 4.0], [257.4380187988281, 247.91587829589844, 294.2219543457031, 337.0470886230469, 0.8478724956512451, 3.0], [128.9705047607422, 49.75953674316406, 208.2041015625, 88.89810180664062, 0.8208956718444824, 3.0], [255.34552001953125, 149.25747680664062, 297.29833984375, 188.6799774169922, 0.6954174637794495, 0.0]]\n",
            "[]\n"
          ]
        }
      ]
    },
    {
      "cell_type": "code",
      "source": [
        "\n",
        "import numpy as np\n",
        "\n",
        "# Create an empty NumPy array to store distances\n",
        "distances = np.zeros((len(yolo_point_list), len(keras_point_list)))\n",
        "\n",
        "# Calculate distances and store them in the array\n",
        "for i, point1 in enumerate(yolo_point_list):\n",
        "    x1, y1 = point1\n",
        "    for j, point2 in enumerate(keras_point_list):\n",
        "        x2, y2 = point2\n",
        "        distance = np.sqrt((x2 - x1) ** 2 + (y2 - y1) ** 2)\n",
        "        distances[i, j] = distance\n",
        "\n",
        "distances_matrix = np.copy(distances)\n",
        "\n",
        "# Initialize a list to store the closest pairs as tuples (i, j)\n",
        "closest_pairs_list = []\n",
        "\n",
        "# Find the closest pairs and add them to the list\n",
        "for _ in range(len(yolo_point_list)):\n",
        "    min_distance_index = np.unravel_index(np.argmin(distances), distances.shape)\n",
        "    i, j = min_distance_index\n",
        "    closest_pairs_list.append((i, j))\n",
        "    distances[i, :] = np.inf  # Set row i to infinity to exclude it from future comparisons\n",
        "    distances[:, j] = np.inf  # Set column j to infinity to exclude it from future comparisons\n",
        "\n",
        "print(closest_pairs_list)\n",
        "\n",
        "# Initialize a dictionary to store the minimum distance for each j\n",
        "min_distance_dict = {}\n",
        "\n",
        "# Iterate through the closest_pairs_list to find the minimum distances\n",
        "for i, j in closest_pairs_list:\n",
        "    distance = distances_matrix[i, j]\n",
        "    if j not in min_distance_dict or distance < min_distance_dict[j]:\n",
        "        min_distance_dict[j] = distance\n",
        "\n",
        "# Filter the closest_pairs_list based on the minimum distances\n",
        "filtered_closest_pairs_list = [(i, j) for i, j in closest_pairs_list if distances_matrix[i, j] == min_distance_dict[j]]\n",
        "\n",
        "# Remove duplicates from filtered_closest_pairs_list\n",
        "filtered_closest_pairs_list = list(set(filtered_closest_pairs_list))\n",
        "print(filtered_closest_pairs_list)\n",
        "\n"
      ],
      "metadata": {
        "colab": {
          "base_uri": "https://localhost:8080/"
        },
        "id": "h1zwuKvVI26U",
        "outputId": "84a75b82-a638-44f5-cd63-33e08ae25353"
      },
      "execution_count": null,
      "outputs": [
        {
          "output_type": "stream",
          "name": "stdout",
          "text": [
            "[(0, 2), (1, 1), (2, 0)]\n",
            "[(1, 1), (0, 2), (2, 0)]\n"
          ]
        }
      ]
    },
    {
      "cell_type": "code",
      "source": [
        "import re\n",
        "\n",
        "indexes = filtered_closest_pairs_list\n",
        "\n",
        "for yolo_index, keras_index in indexes:\n",
        "    x1, y1, x2, y2, accuracy, yolo_class = yolo_result_list[yolo_index]\n",
        "    keras_text = keras_ocr_results_list[keras_index][0]\n",
        "    keras_bbox = keras_ocr_results_list[keras_index][1]\n",
        "\n",
        "    if keras_text[0].isalpha():\n",
        "      # Separate digits from non-digits\n",
        "      digits = ''.join(re.findall(r'\\d', keras_text))\n",
        "      non_digits = ''.join(re.findall(r'\\D', keras_text))\n",
        "\n",
        "      # Reverse the non-digit part\n",
        "      keras_text = digits + non_digits[::]\n",
        "\n",
        "    for i in keras_text:\n",
        "         if i == 'u' :\n",
        "           keras_text = keras_text[:-2] + 'µ' + keras_text[-1:]\n",
        "\n",
        "    if yolo_class == 4.0:\n",
        "      keras_text = keras_text[:-1] + 'V'\n",
        "\n",
        "    if yolo_class == 3.0:\n",
        "      keras_text = keras_text[:-1] + 'Ω'\n",
        "\n",
        "    print(\"Class:\", yolo_class)\n",
        "    print(\"YOLO BBox : (\", x1, \",\", y1, \",\",  x2, \",\", y2,\")\")\n",
        "    print(\"Keras OCR Text:\", keras_text)\n",
        "    print(\"Keras OCR BBox:\", keras_bbox)\n",
        "    print(\"---\")"
      ],
      "metadata": {
        "id": "9QqTq9hoyxf1",
        "colab": {
          "base_uri": "https://localhost:8080/"
        },
        "outputId": "e78b1563-3e4e-4213-ff24-85ec99fdad79"
      },
      "execution_count": null,
      "outputs": [
        {
          "output_type": "stream",
          "name": "stdout",
          "text": [
            "Class: 3.0\n",
            "YOLO BBox : ( 180.06590270996094 , 25.181798934936523 , 247.5618438720703 , 58.42710876464844 )\n",
            "Keras OCR Text: 300Ω\n",
            "Keras OCR BBox: [[        174          63]\n",
            " [        228          63]\n",
            " [        228          85]\n",
            " [        174          85]]\n",
            "---\n",
            "Class: 3.0\n",
            "YOLO BBox : ( 316.8975524902344 , 25.682239532470703 , 380.8903503417969 , 58.294795989990234 )\n",
            "Keras OCR Text: 50Ω\n",
            "Keras OCR BBox: [[        315          63]\n",
            " [        374          63]\n",
            " [        374          85]\n",
            " [        315          85]]\n",
            "---\n",
            "Class: 3.0\n",
            "YOLO BBox : ( 46.14271926879883 , 24.95070457458496 , 113.37285614013672 , 58.17792892456055 )\n",
            "Keras OCR Text: 1ooΩ\n",
            "Keras OCR BBox: [[     34.549      63.422]\n",
            " [     106.84      61.568]\n",
            " [     107.44      85.168]\n",
            " [     35.154      87.022]]\n",
            "---\n"
          ]
        }
      ]
    },
    {
      "cell_type": "code",
      "source": [],
      "metadata": {
        "id": "lphmluolk3pq"
      },
      "execution_count": null,
      "outputs": []
    }
  ]
}